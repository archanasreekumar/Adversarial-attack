{
 "cells": [
  {
   "cell_type": "code",
   "execution_count": 1,
   "metadata": {},
   "outputs": [],
   "source": [
    "import torch"
   ]
  },
  {
   "cell_type": "code",
   "execution_count": 9,
   "metadata": {},
   "outputs": [],
   "source": [
    "#activation function - sigmoid\n",
    "def activation(x):\n",
    "    return 1/(1+torch.exp(-x))"
   ]
  },
  {
   "cell_type": "code",
   "execution_count": 2,
   "metadata": {},
   "outputs": [],
   "source": [
    "#Data generation\n",
    "torch.manual_seed(5) # setting seed value so that the result of torch.randn(n) is reproducible\n",
    "matrix = torch.randn(1,5)\n",
    "weight = torch.randn_like(matrix)\n",
    "bias = torch.randn((1,1))"
   ]
  },
  {
   "cell_type": "code",
   "execution_count": 6,
   "metadata": {},
   "outputs": [],
   "source": [
    "#weight.view(1,4)"
   ]
  },
  {
   "cell_type": "code",
   "execution_count": 8,
   "metadata": {},
   "outputs": [],
   "source": [
    "h = (torch.sum(matrix*weight))+bias"
   ]
  },
  {
   "cell_type": "code",
   "execution_count": 10,
   "metadata": {},
   "outputs": [],
   "source": [
    "nn = activation(h)"
   ]
  },
  {
   "cell_type": "code",
   "execution_count": 11,
   "metadata": {},
   "outputs": [
    {
     "name": "stdout",
     "output_type": "stream",
     "text": [
      "tensor([[0.5908]])\n"
     ]
    }
   ],
   "source": [
    "print(nn)"
   ]
  },
  {
   "cell_type": "code",
   "execution_count": 13,
   "metadata": {},
   "outputs": [
    {
     "name": "stdout",
     "output_type": "stream",
     "text": [
      "tensor([[0.5908]])\n"
     ]
    }
   ],
   "source": [
    "y = activation(torch.mm(matrix, weight.view(5,1)) + bias)\n",
    "print(y)"
   ]
  },
  {
   "cell_type": "code",
   "execution_count": null,
   "metadata": {},
   "outputs": [],
   "source": [
    "#################with multiple layer##################"
   ]
  },
  {
   "cell_type": "code",
   "execution_count": 28,
   "metadata": {},
   "outputs": [
    {
     "name": "stdout",
     "output_type": "stream",
     "text": [
      "tensor([[-1.1143,  1.6908],\n",
      "        [-0.8948, -0.3556],\n",
      "        [ 1.2324,  0.1382]])\n",
      "tensor([[-1.6822],\n",
      "        [ 0.3177]])\n",
      "torch.Size([1, 5])\n"
     ]
    }
   ],
   "source": [
    "torch.manual_seed(7)\n",
    "matrix = torch.randn(1,3)\n",
    "\n",
    "##defining the input, hidden and output units\n",
    "input_unit = matrix.shape[1] ###here 7\n",
    "#print(input_unit)\n",
    "hidden_unit = 2\n",
    "output_unit = 1\n",
    "\n",
    "##defining weights\n",
    "w1 = torch.randn(input_unit,hidden_unit)\n",
    "w2 = torch.randn(hidden_unit, output_unit)\n",
    "print(w1)\n",
    "print(w2)\n",
    "print(weight.shape)"
   ]
  },
  {
   "cell_type": "code",
   "execution_count": 29,
   "metadata": {},
   "outputs": [
    {
     "name": "stdout",
     "output_type": "stream",
     "text": [
      "tensor([[0.1328, 0.1373]])\n",
      "tensor([[0.2405]])\n"
     ]
    }
   ],
   "source": [
    "###defining bias\n",
    "b1 = torch.randn((1, hidden_unit))\n",
    "b2 = torch.randn((1, output_unit))\n",
    "print(b1)\n",
    "print(b2)"
   ]
  },
  {
   "cell_type": "code",
   "execution_count": 30,
   "metadata": {},
   "outputs": [
    {
     "name": "stdout",
     "output_type": "stream",
     "text": [
      "tensor([[0.3171]])\n"
     ]
    }
   ],
   "source": [
    "###computing\n",
    "h1 = activation(torch.mm(matrix,w1)+b1)\n",
    "nn = activation(torch.mm(h1,w2)+b2)\n",
    "\n",
    "print(nn)"
   ]
  },
  {
   "cell_type": "code",
   "execution_count": null,
   "metadata": {},
   "outputs": [],
   "source": [
    "######5 layers"
   ]
  },
  {
   "cell_type": "code",
   "execution_count": 31,
   "metadata": {},
   "outputs": [
    {
     "name": "stdout",
     "output_type": "stream",
     "text": [
      "tensor([[-1.1143,  1.6908, -0.8948, -0.3556,  1.2324],\n",
      "        [ 0.1382, -1.6822,  0.3177,  0.1328,  0.1373],\n",
      "        [ 0.2405,  1.3955,  1.3470,  2.4382,  0.2028]])\n",
      "tensor([[ 2.4505],\n",
      "        [ 2.0256],\n",
      "        [ 1.7792],\n",
      "        [-0.9179],\n",
      "        [-0.4578]])\n",
      "torch.Size([1, 5])\n"
     ]
    }
   ],
   "source": [
    "torch.manual_seed(7)\n",
    "matrix = torch.randn(1,3)\n",
    "\n",
    "##defining the input, hidden and output units\n",
    "input_unit = matrix.shape[1] ###here 5\n",
    "#print(input_unit)\n",
    "hidden_unit = 5\n",
    "output_unit = 1\n",
    "\n",
    "##defining weights\n",
    "w1 = torch.randn(input_unit,hidden_unit)\n",
    "w2 = torch.randn(hidden_unit, output_unit)\n",
    "print(w1)\n",
    "print(w2)\n",
    "print(weight.shape)"
   ]
  },
  {
   "cell_type": "code",
   "execution_count": 32,
   "metadata": {},
   "outputs": [],
   "source": [
    "b1 = torch.randn((1, hidden_unit))\n",
    "b2 = torch.randn((1, output_unit))"
   ]
  },
  {
   "cell_type": "code",
   "execution_count": 33,
   "metadata": {},
   "outputs": [
    {
     "name": "stdout",
     "output_type": "stream",
     "text": [
      "tensor([[0.9865]])\n"
     ]
    }
   ],
   "source": [
    "h1 = activation(torch.mm(matrix,w1)+b1)\n",
    "nn = activation(torch.mm(h1,w2)+b2)\n",
    "\n",
    "print(nn)"
   ]
  },
  {
   "cell_type": "code",
   "execution_count": null,
   "metadata": {},
   "outputs": [],
   "source": []
  }
 ],
 "metadata": {
  "kernelspec": {
   "display_name": "Python 3",
   "language": "python",
   "name": "python3"
  },
  "language_info": {
   "codemirror_mode": {
    "name": "ipython",
    "version": 3
   },
   "file_extension": ".py",
   "mimetype": "text/x-python",
   "name": "python",
   "nbconvert_exporter": "python",
   "pygments_lexer": "ipython3",
   "version": "3.7.4"
  }
 },
 "nbformat": 4,
 "nbformat_minor": 2
}
