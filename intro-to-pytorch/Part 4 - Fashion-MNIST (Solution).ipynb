{
 "cells": [
  {
   "cell_type": "markdown",
   "metadata": {},
   "source": [
    "# Classifying Fashion-MNIST\n",
    "\n",
    "Now it's your turn to build and train a neural network. You'll be using the [Fashion-MNIST dataset](https://github.com/zalandoresearch/fashion-mnist), a drop-in replacement for the MNIST dataset. MNIST is actually quite trivial with neural networks where you can easily achieve better than 97% accuracy. Fashion-MNIST is a set of 28x28 greyscale images of clothes. It's more complex than MNIST, so it's a better representation of the actual performance of your network, and a better representation of datasets you'll use in the real world.\n",
    "\n",
    "<img src='assets/fashion-mnist-sprite.png' width=500px>\n",
    "\n",
    "In this notebook, you'll build your own neural network. For the most part, you could just copy and paste the code from Part 3, but you wouldn't be learning. It's important for you to write the code yourself and get it to work. Feel free to consult the previous notebooks though as you work through this.\n",
    "\n",
    "First off, let's load the dataset through torchvision."
   ]
  },
  {
   "cell_type": "code",
   "execution_count": 1,
   "metadata": {},
   "outputs": [
    {
     "name": "stderr",
     "output_type": "stream",
     "text": [
      "\r",
      "0it [00:00, ?it/s]"
     ]
    },
    {
     "name": "stdout",
     "output_type": "stream",
     "text": [
      "Downloading http://fashion-mnist.s3-website.eu-central-1.amazonaws.com/train-images-idx3-ubyte.gz to /home/achu/.pytorch/F_MNIST_data/FashionMNIST/raw/train-images-idx3-ubyte.gz\n"
     ]
    },
    {
     "name": "stderr",
     "output_type": "stream",
     "text": [
      "100%|█████████▉| 26304512/26421880 [09:02<00:09, 12971.10it/s] "
     ]
    },
    {
     "name": "stdout",
     "output_type": "stream",
     "text": [
      "Extracting /home/achu/.pytorch/F_MNIST_data/FashionMNIST/raw/train-images-idx3-ubyte.gz to /home/achu/.pytorch/F_MNIST_data/FashionMNIST/raw\n"
     ]
    },
    {
     "name": "stderr",
     "output_type": "stream",
     "text": [
      "\n",
      "0it [00:00, ?it/s]\u001b[A"
     ]
    },
    {
     "name": "stdout",
     "output_type": "stream",
     "text": [
      "Downloading http://fashion-mnist.s3-website.eu-central-1.amazonaws.com/train-labels-idx1-ubyte.gz to /home/achu/.pytorch/F_MNIST_data/FashionMNIST/raw/train-labels-idx1-ubyte.gz\n"
     ]
    },
    {
     "name": "stderr",
     "output_type": "stream",
     "text": [
      "\n",
      "  0%|          | 0/29515 [00:02<?, ?it/s]\u001b[A\n",
      " 28%|██▊       | 8192/29515 [00:02<00:00, 34265.85it/s]\u001b[A\n",
      " 83%|████████▎ | 24576/29515 [00:02<00:00, 39769.50it/s]\u001b[A\n",
      "32768it [00:02, 37956.94it/s]                           \u001b[A\n",
      "0it [00:00, ?it/s]\u001b[A"
     ]
    },
    {
     "name": "stdout",
     "output_type": "stream",
     "text": [
      "Extracting /home/achu/.pytorch/F_MNIST_data/FashionMNIST/raw/train-labels-idx1-ubyte.gz to /home/achu/.pytorch/F_MNIST_data/FashionMNIST/raw\n",
      "Downloading http://fashion-mnist.s3-website.eu-central-1.amazonaws.com/t10k-images-idx3-ubyte.gz to /home/achu/.pytorch/F_MNIST_data/FashionMNIST/raw/t10k-images-idx3-ubyte.gz\n"
     ]
    },
    {
     "name": "stderr",
     "output_type": "stream",
     "text": [
      "\n",
      "  0%|          | 0/4422102 [00:00<?, ?it/s]\u001b[A\n",
      "  0%|          | 8192/4422102 [00:00<02:45, 26684.58it/s]\u001b[A\n",
      "  1%|          | 24576/4422102 [00:01<02:21, 31008.06it/s]\u001b[A\n",
      "  1%|          | 40960/4422102 [00:01<01:52, 38861.34it/s]\u001b[A\n",
      "  1%|          | 49152/4422102 [00:01<01:42, 42728.26it/s]\u001b[A\n",
      "  1%|▏         | 57344/4422102 [00:01<01:37, 44636.97it/s]\u001b[A\n",
      "  2%|▏         | 73728/4422102 [00:01<01:22, 52625.82it/s]\u001b[A\n",
      "  2%|▏         | 90112/4422102 [00:01<01:08, 63454.60it/s]\u001b[A\n",
      "  2%|▏         | 106496/4422102 [00:02<01:01, 69998.89it/s]\u001b[A\n",
      "  3%|▎         | 122880/4422102 [00:02<00:55, 77762.94it/s]\u001b[A\n",
      "  3%|▎         | 139264/4422102 [00:02<00:49, 86280.58it/s]\u001b[A\n",
      "  4%|▎         | 155648/4422102 [00:02<00:55, 77234.48it/s]\u001b[A\n",
      "  4%|▍         | 172032/4422102 [00:02<00:52, 81144.61it/s]\u001b[A\n",
      "  4%|▍         | 188416/4422102 [00:03<00:57, 73497.80it/s]\u001b[A\n",
      "  5%|▍         | 204800/4422102 [00:03<00:53, 78708.74it/s]\u001b[A\n",
      "  5%|▌         | 221184/4422102 [00:03<00:55, 76116.32it/s]\u001b[A\n",
      "  5%|▌         | 237568/4422102 [00:03<00:56, 74602.33it/s]\u001b[A\n",
      "  6%|▌         | 253952/4422102 [00:03<00:51, 80522.54it/s]\u001b[A\n",
      "  6%|▌         | 270336/4422102 [00:04<00:48, 86024.78it/s]\u001b[A\n",
      "  6%|▋         | 286720/4422102 [00:04<01:04, 64368.11it/s]\u001b[A\n",
      "  7%|▋         | 303104/4422102 [00:06<03:50, 17899.24it/s]\u001b[A\n",
      "  8%|▊         | 335872/4422102 [00:07<02:46, 24500.21it/s]\u001b[A\n",
      "  8%|▊         | 352256/4422102 [00:07<02:11, 30948.86it/s]\u001b[A\n",
      "  8%|▊         | 368640/4422102 [00:07<01:46, 38225.85it/s]\u001b[A\n",
      "  9%|▊         | 385024/4422102 [00:07<01:32, 43690.72it/s]\u001b[A\n",
      "  9%|▉         | 393216/4422102 [00:07<01:24, 47847.70it/s]\u001b[A\n",
      "  9%|▉         | 409600/4422102 [00:08<01:14, 53765.94it/s]\u001b[A\n",
      "  9%|▉         | 417792/4422102 [00:08<01:07, 59663.96it/s]\u001b[A\n",
      " 10%|▉         | 425984/4422102 [00:08<01:05, 60624.44it/s]\u001b[A\n",
      " 10%|█         | 442368/4422102 [00:08<01:02, 63341.89it/s]\u001b[A\n",
      " 10%|█         | 458752/4422102 [00:08<00:57, 68359.06it/s]\u001b[A\n",
      " 11%|█         | 466944/4422102 [00:09<01:19, 49995.34it/s]\u001b[A\n",
      " 11%|█         | 475136/4422102 [00:09<01:10, 55941.89it/s]\u001b[A\n",
      " 11%|█         | 483328/4422102 [00:09<01:06, 59394.76it/s]\u001b[A\n",
      " 11%|█         | 491520/4422102 [00:09<01:02, 63252.16it/s]\u001b[A\n",
      " 11%|█▏        | 507904/4422102 [00:09<00:56, 69629.22it/s]\u001b[A\n",
      " 12%|█▏        | 516096/4422102 [00:09<00:53, 72469.57it/s]\u001b[A\n",
      " 12%|█▏        | 524288/4422102 [00:09<00:53, 72340.78it/s]\u001b[A\n",
      " 12%|█▏        | 540672/4422102 [00:09<00:53, 72585.92it/s]\u001b[A\n",
      " 13%|█▎        | 557056/4422102 [00:10<00:49, 78822.97it/s]\u001b[A\n",
      " 13%|█▎        | 573440/4422102 [00:10<00:52, 73977.52it/s]\u001b[A\n",
      " 13%|█▎        | 589824/4422102 [00:10<00:49, 76838.16it/s]\u001b[A\n",
      " 14%|█▎        | 606208/4422102 [00:10<00:56, 67261.38it/s]\u001b[A\n",
      " 14%|█▍        | 622592/4422102 [00:11<00:50, 74800.73it/s]\u001b[A\n",
      " 14%|█▍        | 638976/4422102 [00:11<00:49, 76620.88it/s]\u001b[A\n",
      " 15%|█▍        | 655360/4422102 [00:11<00:44, 83833.32it/s]\u001b[A\n",
      " 15%|█▌        | 671744/4422102 [00:11<00:47, 79385.99it/s]\u001b[A\n",
      " 16%|█▌        | 688128/4422102 [00:11<00:42, 87339.64it/s]\u001b[A\n",
      " 16%|█▌        | 704512/4422102 [00:12<00:43, 85668.35it/s]\u001b[A\n",
      " 16%|█▋        | 720896/4422102 [00:12<00:44, 82738.98it/s]\u001b[A\n",
      " 17%|█▋        | 737280/4422102 [00:12<00:47, 78189.18it/s]\u001b[A\n",
      " 17%|█▋        | 745472/4422102 [00:12<00:48, 76229.27it/s]\u001b[A\n",
      " 17%|█▋        | 753664/4422102 [00:12<00:50, 72899.89it/s]\u001b[A\n",
      " 17%|█▋        | 770048/4422102 [00:12<00:49, 73972.19it/s]\u001b[A\n",
      " 18%|█▊        | 778240/4422102 [00:13<00:52, 69893.66it/s]\u001b[A\n",
      " 18%|█▊        | 786432/4422102 [00:13<00:51, 70174.08it/s]\u001b[A\n",
      " 18%|█▊        | 794624/4422102 [00:13<00:51, 70924.63it/s]\u001b[A\n",
      " 18%|█▊        | 802816/4422102 [00:13<00:57, 63062.45it/s]\u001b[A\n",
      " 18%|█▊        | 811008/4422102 [00:13<00:56, 63652.67it/s]\u001b[A\n",
      " 19%|█▊        | 827392/4422102 [00:13<00:48, 73534.62it/s]\u001b[A\n",
      " 19%|█▉        | 835584/4422102 [00:13<00:49, 72590.35it/s]\u001b[A\n",
      "26427392it [09:20, 12971.10it/s]                              \n",
      " 20%|█▉        | 868352/4422102 [00:14<00:44, 79120.76it/s]\u001b[A\n",
      " 20%|██        | 884736/4422102 [00:14<00:40, 87837.96it/s]\u001b[A\n",
      " 20%|██        | 901120/4422102 [00:14<00:42, 83591.22it/s]\u001b[A\n",
      " 21%|██        | 917504/4422102 [00:14<00:47, 73310.93it/s]\u001b[A\n",
      " 21%|██        | 925696/4422102 [00:14<00:50, 69468.16it/s]\u001b[A\n",
      " 21%|██        | 933888/4422102 [00:15<01:02, 55629.98it/s]\u001b[A\n",
      " 21%|██▏       | 942080/4422102 [00:15<01:00, 57071.55it/s]\u001b[A\n",
      " 22%|██▏       | 958464/4422102 [00:15<00:56, 61280.78it/s]\u001b[A\n",
      " 22%|██▏       | 966656/4422102 [00:15<00:57, 60190.59it/s]\u001b[A\n",
      " 22%|██▏       | 974848/4422102 [00:15<00:55, 61791.63it/s]\u001b[A\n",
      " 22%|██▏       | 991232/4422102 [00:17<02:07, 26896.71it/s]\u001b[A\n",
      " 23%|██▎       | 999424/4422102 [00:17<01:49, 31294.32it/s]\u001b[A\n",
      " 23%|██▎       | 1007616/4422102 [00:17<01:32, 36969.58it/s]\u001b[A\n",
      " 23%|██▎       | 1015808/4422102 [00:17<01:20, 42076.07it/s]\u001b[A\n",
      " 23%|██▎       | 1024000/4422102 [00:17<01:09, 49102.70it/s]\u001b[A\n",
      " 23%|██▎       | 1032192/4422102 [00:17<01:07, 49896.34it/s]\u001b[A\n",
      " 24%|██▎       | 1048576/4422102 [00:18<01:01, 55140.03it/s]\u001b[A\n",
      " 24%|██▍       | 1056768/4422102 [00:18<00:55, 60264.38it/s]\u001b[A\n",
      " 24%|██▍       | 1064960/4422102 [00:18<00:51, 65244.60it/s]\u001b[A\n",
      " 24%|██▍       | 1073152/4422102 [00:18<00:56, 59217.53it/s]\u001b[A\n",
      " 24%|██▍       | 1081344/4422102 [00:18<00:55, 60296.87it/s]\u001b[A\n",
      " 25%|██▍       | 1089536/4422102 [00:18<00:55, 59792.51it/s]\u001b[A\n",
      " 25%|██▍       | 1097728/4422102 [00:18<00:56, 59083.50it/s]\u001b[A\n",
      " 25%|██▌       | 1105920/4422102 [00:19<00:58, 57164.90it/s]\u001b[A\n",
      " 25%|██▌       | 1114112/4422102 [00:19<00:57, 57212.57it/s]\u001b[A\n",
      " 25%|██▌       | 1122304/4422102 [00:19<01:03, 51659.10it/s]\u001b[A\n",
      " 26%|██▌       | 1130496/4422102 [00:19<01:03, 51878.79it/s]\u001b[A\n",
      " 26%|██▌       | 1138688/4422102 [00:19<00:57, 56861.62it/s]\u001b[A\n",
      " 26%|██▌       | 1146880/4422102 [00:19<01:03, 51844.07it/s]\u001b[A\n",
      " 26%|██▋       | 1163264/4422102 [00:20<00:58, 56142.11it/s]\u001b[A\n",
      " 26%|██▋       | 1171456/4422102 [00:20<00:52, 61638.07it/s]\u001b[A\n",
      " 27%|██▋       | 1179648/4422102 [00:20<00:54, 59878.73it/s]\u001b[A\n",
      " 27%|██▋       | 1196032/4422102 [00:20<00:48, 67061.75it/s]\u001b[A\n",
      " 27%|██▋       | 1212416/4422102 [00:20<00:44, 71862.85it/s]\u001b[A\n",
      " 28%|██▊       | 1228800/4422102 [00:20<00:45, 69668.42it/s]\u001b[A\n",
      " 28%|██▊       | 1245184/4422102 [00:21<00:44, 71964.94it/s]\u001b[A\n",
      " 28%|██▊       | 1253376/4422102 [00:21<00:47, 67299.69it/s]\u001b[A\n",
      " 29%|██▊       | 1269760/4422102 [00:21<00:40, 78271.76it/s]\u001b[A\n",
      " 29%|██▉       | 1294336/4422102 [00:21<00:37, 83510.34it/s]\u001b[A\n",
      " 30%|██▉       | 1310720/4422102 [00:21<00:37, 82838.65it/s]\u001b[A\n",
      " 30%|███       | 1327104/4422102 [00:22<00:38, 80534.22it/s]\u001b[A\n",
      " 30%|███       | 1343488/4422102 [00:22<00:39, 77934.78it/s]\u001b[A\n",
      " 31%|███       | 1351680/4422102 [00:22<00:41, 74102.52it/s]\u001b[A\n",
      " 31%|███       | 1359872/4422102 [00:22<00:44, 69243.73it/s]\u001b[A\n",
      " 31%|███       | 1368064/4422102 [00:22<00:46, 65751.50it/s]\u001b[A\n",
      " 31%|███       | 1376256/4422102 [00:22<00:45, 66381.96it/s]\u001b[A\n",
      " 31%|███▏      | 1384448/4422102 [00:22<00:46, 64869.24it/s]\u001b[A\n",
      " 31%|███▏      | 1392640/4422102 [00:23<00:45, 65863.96it/s]\u001b[A\n",
      " 32%|███▏      | 1400832/4422102 [00:23<00:47, 63302.67it/s]\u001b[A\n",
      " 32%|███▏      | 1409024/4422102 [00:23<00:47, 64082.05it/s]\u001b[A\n",
      " 32%|███▏      | 1417216/4422102 [00:23<00:50, 60085.85it/s]\u001b[A\n",
      " 32%|███▏      | 1425408/4422102 [00:23<00:49, 60145.68it/s]\u001b[A\n",
      " 33%|███▎      | 1441792/4422102 [00:23<00:50, 58744.39it/s]\u001b[A\n",
      " 33%|███▎      | 1458176/4422102 [00:24<00:45, 64960.38it/s]\u001b[A\n",
      " 33%|███▎      | 1466368/4422102 [00:24<00:45, 65597.03it/s]\u001b[A\n",
      " 33%|███▎      | 1474560/4422102 [00:24<00:42, 69396.56it/s]\u001b[A\n",
      " 34%|███▎      | 1490944/4422102 [00:24<00:39, 73496.58it/s]\u001b[A\n",
      " 34%|███▍      | 1507328/4422102 [00:24<00:37, 78290.46it/s]\u001b[A\n",
      " 34%|███▍      | 1523712/4422102 [00:24<00:32, 88282.84it/s]\u001b[A\n",
      " 35%|███▍      | 1540096/4422102 [00:25<00:31, 92232.35it/s]\u001b[A\n",
      " 35%|███▌      | 1556480/4422102 [00:25<00:30, 94283.85it/s]\u001b[A\n",
      " 36%|███▌      | 1572864/4422102 [00:25<00:32, 88056.67it/s]\u001b[A\n",
      " 36%|███▌      | 1589248/4422102 [00:25<00:32, 87262.44it/s]\u001b[A\n",
      " 36%|███▋      | 1605632/4422102 [00:25<00:31, 90566.59it/s]\u001b[A\n",
      " 37%|███▋      | 1622016/4422102 [00:25<00:30, 90855.22it/s]\u001b[A\n",
      " 37%|███▋      | 1638400/4422102 [00:26<00:28, 98855.14it/s]\u001b[A\n",
      " 37%|███▋      | 1654784/4422102 [00:26<00:28, 96619.72it/s]\u001b[A\n"
     ]
    },
    {
     "name": "stderr",
     "output_type": "stream",
     "text": [
      " 38%|███▊      | 1671168/4422102 [00:26<00:26, 105471.56it/s]\u001b[A\n",
      " 38%|███▊      | 1687552/4422102 [00:26<00:26, 104703.20it/s]\u001b[A\n",
      " 39%|███▊      | 1703936/4422102 [00:26<00:24, 110335.50it/s]\u001b[A\n",
      " 39%|███▉      | 1720320/4422102 [00:26<00:24, 108119.03it/s]\u001b[A\n",
      " 39%|███▉      | 1736704/4422102 [00:26<00:23, 115708.78it/s]\u001b[A\n",
      " 40%|███▉      | 1753088/4422102 [00:27<00:22, 118172.45it/s]\u001b[A\n",
      " 40%|████      | 1769472/4422102 [00:27<00:21, 123584.75it/s]\u001b[A\n",
      " 40%|████      | 1785856/4422102 [00:27<00:23, 112168.27it/s]\u001b[A\n",
      " 41%|████      | 1802240/4422102 [00:27<00:22, 114779.87it/s]\u001b[A\n",
      " 41%|████      | 1818624/4422102 [00:27<00:23, 113184.19it/s]\u001b[A\n",
      " 41%|████▏     | 1835008/4422102 [00:27<00:21, 117815.27it/s]\u001b[A\n",
      " 42%|████▏     | 1851392/4422102 [00:27<00:21, 118000.41it/s]\u001b[A\n",
      " 42%|████▏     | 1867776/4422102 [00:28<00:24, 105830.74it/s]\u001b[A\n",
      " 43%|████▎     | 1884160/4422102 [00:28<00:25, 98374.70it/s] \u001b[A\n",
      " 43%|████▎     | 1900544/4422102 [00:28<00:37, 67101.89it/s]\u001b[A\n",
      " 43%|████▎     | 1916928/4422102 [00:28<00:32, 75993.46it/s]\u001b[A\n",
      " 44%|████▎     | 1933312/4422102 [00:29<00:30, 82175.16it/s]\u001b[A\n",
      " 44%|████▍     | 1949696/4422102 [00:29<00:40, 61682.21it/s]\u001b[A\n",
      " 45%|████▍     | 1974272/4422102 [00:29<00:32, 75756.49it/s]\u001b[A\n",
      " 45%|████▌     | 1990656/4422102 [00:29<00:27, 87887.07it/s]\u001b[A\n",
      " 45%|████▌     | 2007040/4422102 [00:29<00:25, 94341.00it/s]\u001b[A\n",
      " 46%|████▌     | 2023424/4422102 [00:30<00:24, 99412.13it/s]\u001b[A\n",
      " 46%|████▌     | 2039808/4422102 [00:30<00:36, 64639.67it/s]\u001b[A\n",
      " 46%|████▋     | 2056192/4422102 [00:30<00:33, 70606.14it/s]\u001b[A\n",
      " 47%|████▋     | 2072576/4422102 [00:31<00:44, 53050.08it/s]\u001b[A\n",
      " 47%|████▋     | 2080768/4422102 [00:31<00:43, 54155.80it/s]\u001b[A\n",
      " 47%|████▋     | 2097152/4422102 [00:31<00:36, 64581.57it/s]\u001b[A\n",
      " 48%|████▊     | 2113536/4422102 [00:31<00:40, 56740.21it/s]\u001b[A\n",
      " 48%|████▊     | 2129920/4422102 [00:31<00:34, 67104.94it/s]\u001b[A\n",
      " 49%|████▊     | 2146304/4422102 [00:32<00:43, 52261.20it/s]\u001b[A\n",
      " 49%|████▊     | 2154496/4422102 [00:32<00:56, 40489.63it/s]\u001b[A\n",
      " 49%|████▉     | 2179072/4422102 [00:33<00:47, 47553.67it/s]\u001b[A\n",
      " 49%|████▉     | 2187264/4422102 [00:33<00:49, 45079.47it/s]\u001b[A\n",
      " 50%|████▉     | 2195456/4422102 [00:33<00:44, 50001.44it/s]\u001b[A\n",
      " 50%|█████     | 2211840/4422102 [00:33<00:37, 59698.59it/s]\u001b[A\n",
      " 50%|█████     | 2228224/4422102 [00:33<00:36, 59457.65it/s]\u001b[A\n",
      " 51%|█████     | 2236416/4422102 [00:34<00:44, 48674.88it/s]\u001b[A\n",
      " 51%|█████     | 2244608/4422102 [00:37<04:48, 7536.71it/s] \u001b[A\n",
      " 51%|█████     | 2260992/4422102 [00:37<03:26, 10455.21it/s]\u001b[A\n",
      " 51%|█████▏    | 2269184/4422102 [00:37<02:36, 13777.89it/s]\u001b[A\n",
      " 52%|█████▏    | 2285568/4422102 [00:37<01:53, 18748.50it/s]\u001b[A\n",
      " 52%|█████▏    | 2301952/4422102 [00:37<01:26, 24392.62it/s]\u001b[A\n",
      " 52%|█████▏    | 2318336/4422102 [00:38<01:07, 31285.11it/s]\u001b[A\n",
      " 53%|█████▎    | 2334720/4422102 [00:38<00:51, 40288.47it/s]\u001b[A\n",
      " 53%|█████▎    | 2351104/4422102 [00:38<00:42, 48807.70it/s]\u001b[A\n",
      " 54%|█████▎    | 2367488/4422102 [00:38<00:35, 57384.18it/s]\u001b[A\n",
      " 54%|█████▍    | 2383872/4422102 [00:38<00:29, 69136.82it/s]\u001b[A\n",
      " 54%|█████▍    | 2400256/4422102 [00:43<03:32, 9499.25it/s] \u001b[A\n",
      " 60%|█████▉    | 2646016/4422102 [00:44<02:11, 13488.15it/s]\u001b[A\n",
      " 61%|██████    | 2678784/4422102 [00:45<01:43, 16787.62it/s]\u001b[A\n",
      " 61%|██████    | 2703360/4422102 [00:45<01:23, 20626.21it/s]\u001b[A\n",
      " 62%|██████▏   | 2719744/4422102 [00:45<01:06, 25607.90it/s]\u001b[A\n",
      " 62%|██████▏   | 2736128/4422102 [00:46<00:59, 28264.83it/s]\u001b[A\n",
      " 62%|██████▏   | 2752512/4422102 [00:46<00:53, 31426.78it/s]\u001b[A\n",
      " 62%|██████▏   | 2760704/4422102 [00:46<00:47, 35109.68it/s]\u001b[A\n",
      " 63%|██████▎   | 2768896/4422102 [00:47<00:39, 42068.03it/s]\u001b[A\n",
      " 63%|██████▎   | 2777088/4422102 [00:47<00:43, 38070.89it/s]\u001b[A\n",
      " 63%|██████▎   | 2785280/4422102 [00:47<00:42, 38404.18it/s]\u001b[A\n",
      " 63%|██████▎   | 2793472/4422102 [00:47<00:42, 38478.06it/s]\u001b[A\n",
      " 63%|██████▎   | 2801664/4422102 [00:47<00:44, 36553.12it/s]\u001b[A\n",
      " 64%|██████▎   | 2809856/4422102 [00:48<00:44, 36267.79it/s]\u001b[A\n",
      " 64%|██████▎   | 2818048/4422102 [00:48<00:41, 39058.25it/s]\u001b[A\n",
      " 64%|██████▍   | 2826240/4422102 [00:49<02:01, 13136.53it/s]\u001b[A\n",
      " 64%|██████▍   | 2850816/4422102 [00:50<01:26, 18097.15it/s]\u001b[A\n",
      " 65%|██████▍   | 2867200/4422102 [00:50<01:05, 23839.49it/s]\u001b[A\n",
      " 65%|██████▌   | 2875392/4422102 [00:50<00:51, 30186.06it/s]\u001b[A\n",
      " 65%|██████▌   | 2883584/4422102 [00:50<00:42, 36485.99it/s]\u001b[A\n",
      " 65%|██████▌   | 2891776/4422102 [00:50<00:37, 40764.64it/s]\u001b[A\n",
      " 66%|██████▌   | 2908160/4422102 [00:50<00:31, 48759.19it/s]\u001b[A\n",
      " 66%|██████▌   | 2924544/4422102 [00:51<00:27, 54642.47it/s]\u001b[A\n",
      " 67%|██████▋   | 2940928/4422102 [00:51<00:24, 59767.51it/s]\u001b[A\n",
      " 67%|██████▋   | 2957312/4422102 [00:51<00:22, 65752.03it/s]\u001b[A\n",
      " 67%|██████▋   | 2973696/4422102 [00:51<00:29, 48602.81it/s]\u001b[A\n",
      " 68%|██████▊   | 3006464/4422102 [00:52<00:22, 63421.21it/s]\u001b[A\n",
      " 68%|██████▊   | 3022848/4422102 [00:53<00:37, 36897.67it/s]\u001b[A\n",
      " 69%|██████▉   | 3047424/4422102 [00:53<00:36, 37788.95it/s]\u001b[A\n",
      " 70%|██████▉   | 3088384/4422102 [00:53<00:27, 48159.04it/s]\u001b[A\n",
      " 70%|███████   | 3104768/4422102 [00:54<00:22, 58629.51it/s]\u001b[A\n",
      " 71%|███████   | 3121152/4422102 [00:54<00:18, 68579.66it/s]\u001b[A\n",
      " 71%|███████   | 3137536/4422102 [00:54<00:16, 79827.23it/s]\u001b[A\n",
      " 71%|███████▏  | 3153920/4422102 [00:54<00:13, 93407.63it/s]\u001b[A\n",
      " 72%|███████▏  | 3170304/4422102 [00:54<00:11, 104435.18it/s]\u001b[A\n",
      " 72%|███████▏  | 3186688/4422102 [00:54<00:13, 94430.22it/s] \u001b[A\n",
      " 72%|███████▏  | 3203072/4422102 [00:55<00:18, 65373.30it/s]\u001b[A\n",
      " 73%|███████▎  | 3219456/4422102 [00:55<00:18, 65869.87it/s]\u001b[A\n",
      " 73%|███████▎  | 3235840/4422102 [00:55<00:21, 54709.07it/s]\u001b[A\n",
      " 74%|███████▎  | 3252224/4422102 [00:56<00:18, 64177.22it/s]\u001b[A\n",
      " 74%|███████▎  | 3260416/4422102 [00:56<00:26, 43243.09it/s]\u001b[A\n",
      " 74%|███████▍  | 3268608/4422102 [00:56<00:24, 47387.39it/s]\u001b[A\n",
      " 74%|███████▍  | 3284992/4422102 [00:56<00:19, 58167.67it/s]\u001b[A\n",
      " 75%|███████▍  | 3301376/4422102 [00:57<00:23, 48459.54it/s]\u001b[A\n",
      " 75%|███████▍  | 3309568/4422102 [00:57<00:20, 54297.44it/s]\u001b[A\n",
      " 75%|███████▌  | 3325952/4422102 [00:57<00:16, 64860.26it/s]\u001b[A\n",
      " 76%|███████▌  | 3350528/4422102 [00:57<00:13, 78114.32it/s]\u001b[A\n",
      " 76%|███████▌  | 3366912/4422102 [00:57<00:18, 58539.83it/s]\u001b[A\n",
      " 77%|███████▋  | 3383296/4422102 [00:58<00:15, 66508.39it/s]\u001b[A\n",
      " 77%|███████▋  | 3399680/4422102 [00:58<00:13, 73253.32it/s]\u001b[A\n",
      " 77%|███████▋  | 3416064/4422102 [00:58<00:17, 55903.97it/s]\u001b[A\n",
      " 78%|███████▊  | 3432448/4422102 [00:58<00:15, 65272.75it/s]\u001b[A\n",
      " 78%|███████▊  | 3448832/4422102 [00:59<00:19, 50372.44it/s]\u001b[A\n",
      " 78%|███████▊  | 3465216/4422102 [00:59<00:15, 63320.00it/s]\u001b[A\n",
      " 79%|███████▊  | 3481600/4422102 [00:59<00:12, 73024.26it/s]\u001b[A\n",
      " 79%|███████▉  | 3497984/4422102 [01:00<00:17, 52676.98it/s]\u001b[A\n",
      " 79%|███████▉  | 3514368/4422102 [01:00<00:13, 66076.52it/s]\u001b[A\n",
      " 80%|███████▉  | 3530752/4422102 [01:00<00:11, 80411.43it/s]\u001b[A\n",
      " 81%|████████  | 3563520/4422102 [01:00<00:08, 103298.97it/s]\u001b[A\n",
      " 81%|████████  | 3588096/4422102 [01:00<00:07, 108057.02it/s]\u001b[A\n",
      " 82%|████████▏ | 3604480/4422102 [01:00<00:06, 119714.00it/s]\u001b[A\n",
      " 82%|████████▏ | 3620864/4422102 [01:00<00:06, 129622.59it/s]\u001b[A\n",
      " 82%|████████▏ | 3637248/4422102 [01:01<00:07, 107014.74it/s]\u001b[A\n",
      " 83%|████████▎ | 3653632/4422102 [01:01<00:12, 62748.45it/s] \u001b[A\n",
      " 83%|████████▎ | 3670016/4422102 [01:01<00:10, 73874.70it/s]\u001b[A\n",
      " 83%|████████▎ | 3686400/4422102 [01:02<00:12, 58622.65it/s]\u001b[A\n",
      " 84%|████████▎ | 3702784/4422102 [01:02<00:14, 50200.69it/s]\u001b[A\n",
      " 84%|████████▍ | 3719168/4422102 [01:02<00:12, 58252.46it/s]\u001b[A\n",
      " 84%|████████▍ | 3735552/4422102 [01:03<00:14, 48810.82it/s]\u001b[A\n",
      " 85%|████████▍ | 3743744/4422102 [01:03<00:13, 48879.33it/s]\u001b[A\n",
      " 85%|████████▌ | 3768320/4422102 [01:03<00:10, 61767.95it/s]\u001b[A\n",
      " 86%|████████▌ | 3784704/4422102 [01:04<00:12, 49516.33it/s]\u001b[A\n",
      " 86%|████████▌ | 3792896/4422102 [01:04<00:11, 54359.68it/s]\u001b[A\n",
      " 86%|████████▌ | 3809280/4422102 [01:04<00:09, 65675.90it/s]\u001b[A\n",
      " 87%|████████▋ | 3825664/4422102 [01:04<00:07, 75030.15it/s]\u001b[A\n",
      " 87%|████████▋ | 3842048/4422102 [01:04<00:09, 58885.39it/s]\u001b[A\n",
      " 87%|████████▋ | 3858432/4422102 [01:04<00:08, 69509.95it/s]\u001b[A\n",
      " 88%|████████▊ | 3874816/4422102 [01:05<00:06, 82241.93it/s]\u001b[A\n",
      " 88%|████████▊ | 3891200/4422102 [01:05<00:05, 90290.57it/s]\u001b[A\n",
      " 88%|████████▊ | 3907584/4422102 [01:05<00:05, 89308.67it/s]\u001b[A\n"
     ]
    },
    {
     "name": "stderr",
     "output_type": "stream",
     "text": [
      " 89%|████████▊ | 3923968/4422102 [01:05<00:06, 79778.81it/s]\u001b[A\n",
      " 89%|████████▉ | 3948544/4422102 [01:05<00:05, 93452.05it/s]\u001b[A\n",
      " 90%|████████▉ | 3964928/4422102 [01:05<00:04, 95677.47it/s]\u001b[A\n",
      " 90%|█████████ | 3981312/4422102 [01:06<00:04, 106702.75it/s]\u001b[A\n",
      " 90%|█████████ | 3997696/4422102 [01:11<00:47, 9006.21it/s]  \u001b[A\n",
      " 91%|█████████ | 4014080/4422102 [01:11<00:32, 12558.06it/s]\u001b[A\n",
      " 91%|█████████ | 4030464/4422102 [01:12<00:22, 17140.51it/s]\u001b[A\n",
      " 92%|█████████▏| 4046848/4422102 [01:12<00:16, 23213.78it/s]\u001b[A\n",
      " 92%|█████████▏| 4063232/4422102 [01:12<00:11, 31089.83it/s]\u001b[A\n",
      " 92%|█████████▏| 4079616/4422102 [01:12<00:08, 40939.17it/s]\u001b[A\n",
      " 93%|█████████▎| 4096000/4422102 [01:12<00:06, 52310.51it/s]\u001b[A\n",
      " 93%|█████████▎| 4112384/4422102 [01:12<00:04, 65135.30it/s]\u001b[A\n",
      " 93%|█████████▎| 4128768/4422102 [01:12<00:03, 79480.93it/s]\u001b[A\n",
      " 94%|█████████▎| 4145152/4422102 [01:12<00:03, 81613.10it/s]\u001b[A\n",
      " 94%|█████████▍| 4161536/4422102 [01:13<00:04, 61065.02it/s]\u001b[A\n",
      " 95%|█████████▍| 4186112/4422102 [01:13<00:03, 76039.40it/s]\u001b[A\n",
      " 95%|█████████▌| 4202496/4422102 [01:13<00:02, 76003.80it/s]\u001b[A\n",
      " 95%|█████████▌| 4218880/4422102 [01:13<00:02, 86286.46it/s]\u001b[A\n",
      " 96%|█████████▌| 4235264/4422102 [01:13<00:01, 98691.74it/s]\u001b[A\n",
      " 96%|█████████▌| 4251648/4422102 [01:14<00:01, 92007.48it/s]\u001b[A\n",
      " 97%|█████████▋| 4268032/4422102 [01:14<00:01, 100461.97it/s]\u001b[A\n",
      " 97%|█████████▋| 4284416/4422102 [01:14<00:01, 100256.27it/s]\u001b[A\n",
      " 97%|█████████▋| 4300800/4422102 [01:14<00:01, 85702.33it/s] \u001b[A\n",
      " 98%|█████████▊| 4317184/4422102 [01:14<00:01, 87012.04it/s]\u001b[A\n",
      " 98%|█████████▊| 4333568/4422102 [01:14<00:00, 94192.53it/s]\u001b[A\n",
      " 98%|█████████▊| 4349952/4422102 [01:15<00:00, 96801.15it/s]\u001b[A\n",
      " 99%|█████████▊| 4366336/4422102 [01:15<00:00, 103702.24it/s]\u001b[A\n",
      " 99%|█████████▉| 4382720/4422102 [01:15<00:00, 88034.58it/s] \u001b[A\n",
      " 99%|█████████▉| 4399104/4422102 [01:15<00:00, 80650.71it/s]\u001b[A\n",
      "100%|█████████▉| 4415488/4422102 [01:15<00:00, 86698.81it/s]\u001b[A\n",
      "\n",
      "0it [00:00, ?it/s]\u001b[A\u001b[A"
     ]
    },
    {
     "name": "stdout",
     "output_type": "stream",
     "text": [
      "Extracting /home/achu/.pytorch/F_MNIST_data/FashionMNIST/raw/t10k-images-idx3-ubyte.gz to /home/achu/.pytorch/F_MNIST_data/FashionMNIST/raw\n",
      "Downloading http://fashion-mnist.s3-website.eu-central-1.amazonaws.com/t10k-labels-idx1-ubyte.gz to /home/achu/.pytorch/F_MNIST_data/FashionMNIST/raw/t10k-labels-idx1-ubyte.gz\n"
     ]
    },
    {
     "name": "stderr",
     "output_type": "stream",
     "text": [
      "\n",
      "\n",
      "  0%|          | 0/5148 [00:00<?, ?it/s]\u001b[A\u001b[A\n",
      "\n",
      "8192it [00:00, 8501.27it/s]             \u001b[A\u001b[A"
     ]
    },
    {
     "name": "stdout",
     "output_type": "stream",
     "text": [
      "Extracting /home/achu/.pytorch/F_MNIST_data/FashionMNIST/raw/t10k-labels-idx1-ubyte.gz to /home/achu/.pytorch/F_MNIST_data/FashionMNIST/raw\n",
      "Processing...\n",
      "Done!\n"
     ]
    },
    {
     "name": "stderr",
     "output_type": "stream",
     "text": [
      "\n",
      "4423680it [01:34, 86698.81it/s]                             \u001b[A"
     ]
    }
   ],
   "source": [
    "import torch\n",
    "from torchvision import datasets, transforms\n",
    "import helper\n",
    "\n",
    "# Define a transform to normalize the data\n",
    "transform = transforms.Compose([transforms.ToTensor(),\n",
    "                                transforms.Normalize((0.5,), (0.5,))])\n",
    "# Download and load the training data\n",
    "trainset = datasets.FashionMNIST('~/.pytorch/F_MNIST_data/', download=True, train=True, transform=transform)\n",
    "trainloader = torch.utils.data.DataLoader(trainset, batch_size=64, shuffle=True)\n",
    "\n",
    "# Download and load the test data\n",
    "testset = datasets.FashionMNIST('~/.pytorch/F_MNIST_data/', download=True, train=False, transform=transform)\n",
    "testloader = torch.utils.data.DataLoader(testset, batch_size=64, shuffle=True)"
   ]
  },
  {
   "cell_type": "markdown",
   "metadata": {},
   "source": [
    "Here we can see one of the images."
   ]
  },
  {
   "cell_type": "code",
   "execution_count": 5,
   "metadata": {},
   "outputs": [
    {
     "data": {
      "image/png": "[encoded data removed]",
      "text/plain": [
       "<Figure size 432x288 with 1 Axes>"
      ]
     },
     "metadata": {},
     "output_type": "display_data"
    }
   ],
   "source": [
    "image, label = next(iter(trainloader))\n",
    "helper.imshow(image[0,:]);"
   ]
  },
  {
   "cell_type": "markdown",
   "metadata": {},
   "source": [
    "## Building the network\n",
    "\n",
    "Here you should define your network. As with MNIST, each image is 28x28 which is a total of 784 pixels, and there are 10 classes. You should include at least one hidden layer. We suggest you use ReLU activations for the layers and to return the logits or log-softmax from the forward pass. It's up to you how many layers you add and the size of those layers."
   ]
  },
  {
   "cell_type": "code",
   "execution_count": 6,
   "metadata": {},
   "outputs": [],
   "source": [
    "from torch import nn, optim\n",
    "import torch.nn.functional as F"
   ]
  },
  {
   "cell_type": "code",
   "execution_count": 12,
   "metadata": {},
   "outputs": [],
   "source": [
    "# TODO: Define your network architecture here\n",
    "class Classifier(nn.Module):\n",
    "    def __init__(self):\n",
    "        super().__init__()\n",
    "        self.fc1 = nn.Linear(784, 256)\n",
    "        self.fc2 = nn.Linear(256, 128)\n",
    "        self.fc3 = nn.Linear(128, 64)\n",
    "        self.fc4 = nn.Linear(64, 10)\n",
    "        \n",
    "    def forward(self, x):\n",
    "        # make sure input tensor is flattened\n",
    "        x = x.view(x.shape[0], -1)\n",
    "        \n",
    "        x = F.relu(self.fc1(x))\n",
    "        x = F.relu(self.fc2(x))\n",
    "        x = F.relu(self.fc3(x))\n",
    "        x = F.log_softmax(self.fc4(x), dim=1)\n",
    "        \n",
    "        return x"
   ]
  },
  {
   "cell_type": "markdown",
   "metadata": {},
   "source": [
    "# Train the network\n",
    "\n",
    "Now you should create your network and train it. First you'll want to define [the criterion](http://pytorch.org/docs/master/nn.html#loss-functions) (something like `nn.CrossEntropyLoss` or `nn.NLLLoss`) and [the optimizer](http://pytorch.org/docs/master/optim.html) (typically `optim.SGD` or `optim.Adam`).\n",
    "\n",
    "Then write the training code. Remember the training pass is a fairly straightforward process:\n",
    "\n",
    "* Make a forward pass through the network to get the logits \n",
    "* Use the logits to calculate the loss\n",
    "* Perform a backward pass through the network with `loss.backward()` to calculate the gradients\n",
    "* Take a step with the optimizer to update the weights\n",
    "\n",
    "By adjusting the hyperparameters (hidden units, learning rate, etc), you should be able to get the training loss below 0.4."
   ]
  },
  {
   "cell_type": "code",
   "execution_count": 13,
   "metadata": {},
   "outputs": [],
   "source": [
    "# TODO: Create the network, define the criterion and optimizer\n",
    "model = Classifier()\n",
    "criterion = nn.NLLLoss()\n",
    "optimizer = optim.Adam(model.parameters(), lr=0.003)"
   ]
  },
  {
   "cell_type": "code",
   "execution_count": 19,
   "metadata": {},
   "outputs": [
    {
     "name": "stdout",
     "output_type": "stream",
     "text": [
      "Training loss: 283.4510831311345\n",
      "Training loss: 274.7842669263482\n",
      "Training loss: 267.907463490963\n",
      "Training loss: 258.2156918346882\n",
      "Training loss: 251.79347000271082\n"
     ]
    }
   ],
   "source": [
    "# TODO: Train the network here\n",
    "epochs = 5\n",
    "\n",
    "for e in range(epochs):\n",
    "    running_loss = 0\n",
    "    for images, labels in trainloader:\n",
    "        log_ps = model(images)\n",
    "        loss = criterion(log_ps, labels)\n",
    "        \n",
    "        optimizer.zero_grad()\n",
    "        loss.backward()\n",
    "        optimizer.step()\n",
    "        \n",
    "        running_loss += loss.item()\n",
    "    else:\n",
    "        print(f\"Training loss: {running_loss/len(trainloader)}\")"
   ]
  },
  {
   "cell_type": "code",
   "execution_count": 20,
   "metadata": {},
   "outputs": [
    {
     "data": {
      "image/png": "[encoded data removed]",
      "text/plain": [
       "<Figure size 432x648 with 2 Axes>"
      ]
     },
     "metadata": {
      "image/png": {
       "height": 204,
       "width": 423
      }
     },
     "output_type": "display_data"
    }
   ],
   "source": [
    "%matplotlib inline\n",
    "%config InlineBackend.figure_format = 'retina'\n",
    "\n",
    "import helper\n",
    "\n",
    "# Test out your network!\n",
    "\n",
    "dataiter = iter(testloader)\n",
    "images, labels = dataiter.next()\n",
    "img = images[1]\n",
    "\n",
    "# TODO: Calculate the class probabilities (softmax) for img\n",
    "ps = torch.exp(model(img))\n",
    "\n",
    "# Plot the image and probabilities\n",
    "helper.view_classify(img, ps, version='Fashion')"
   ]
  }
 ],
 "metadata": {
  "kernelspec": {
   "display_name": "Python 3",
   "language": "python",
   "name": "python3"
  },
  "language_info": {
   "codemirror_mode": {
    "name": "ipython",
    "version": 3
   },
   "file_extension": ".py",
   "mimetype": "text/x-python",
   "name": "python",
   "nbconvert_exporter": "python",
   "pygments_lexer": "ipython3",
   "version": "3.7.4"
  }
 },
 "nbformat": 4,
 "nbformat_minor": 2
}
