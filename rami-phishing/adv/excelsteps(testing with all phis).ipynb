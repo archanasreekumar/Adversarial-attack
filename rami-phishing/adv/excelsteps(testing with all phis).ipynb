{
 "cells": [
  {
   "cell_type": "code",
   "execution_count": 48,
   "metadata": {},
   "outputs": [],
   "source": [
    "import numpy as np\n",
    "import pandas as pd\n",
    "import matplotlib.pyplot as plt\n",
    "import seaborn as sns\n",
    "from sklearn import tree\n",
    "from sklearn import svm\n",
    "from sklearn.metrics import f1_score\n",
    "#from sklearn.metrics import score\n",
    "from sklearn.model_selection import train_test_split\n",
    "from sklearn.model_selection import RepeatedKFold\n",
    "from sklearn.model_selection import KFold\n",
    "from sklearn.model_selection import cross_val_score\n",
    "from sklearn.linear_model import LogisticRegression\n",
    "from sklearn.metrics import accuracy_score\n",
    "#from ipykernel import kernelapp as app\n",
    "%matplotlib inline"
   ]
  },
  {
   "cell_type": "code",
   "execution_count": 64,
   "metadata": {
    "scrolled": true
   },
   "outputs": [],
   "source": [
    "data = pd.read_csv('dataset_final.csv')\n",
    "#data.head(10)"
   ]
  },
  {
   "cell_type": "code",
   "execution_count": 50,
   "metadata": {},
   "outputs": [],
   "source": [
    "###################filtered out phishing instances.################################# ---> DONE\n",
    "\n",
    "phish = data[data.Result >=1]\n",
    "leg = data[data.Result <=0]"
   ]
  },
  {
   "cell_type": "code",
   "execution_count": 57,
   "metadata": {},
   "outputs": [],
   "source": [
    "phish_wo_mod = phish\n",
    "phish_w_mod = phish\n",
    "phish.to_csv('123.csv')\n",
    "X_test_1 = phish_wo_mod.drop(['Result'], axis = 1)\n",
    "y_test_1 = phish_wo_mod['Result'].values\n",
    "X_test_1.to_csv('X_test_1.csv')\n",
    "#X_test_1.head()"
   ]
  },
  {
   "cell_type": "code",
   "execution_count": 55,
   "metadata": {},
   "outputs": [],
   "source": [
    "#fileterd out values in each column to figure out value with least number of occurence ---> counting done\n",
    "#histogram for each features ---> To be done\n",
    "\n",
    "\n",
    "\n",
    "###############finding the occurences of each value in each column############################## -->DONE\n",
    "columns = list(phish)\n",
    "columns.remove('Result')\n",
    "\n",
    "\n",
    "melted_data_phish = pd.melt(phish, value_vars=columns, var_name='column', value_name='values')\n",
    "count_phish = melted_data_phish.groupby(by=['column', 'values'])['values'].count()\n",
    "\n",
    "#print(count_phish['ssl_final state'])\n",
    "\n",
    "melted_data_leg = pd.melt(leg, value_vars=columns, var_name='column', value_name='values')\n",
    "count_leg = melted_data_leg.groupby(by=['column', 'values'])['values'].count()\n"
   ]
  },
  {
   "cell_type": "code",
   "execution_count": 58,
   "metadata": {},
   "outputs": [
    {
     "name": "stderr",
     "output_type": "stream",
     "text": [
      "/home/achu/miniconda3/lib/python3.7/site-packages/ipykernel_launcher.py:4: SettingWithCopyWarning: \n",
      "A value is trying to be set on a copy of a slice from a DataFrame.\n",
      "Try using .loc[row_indexer,col_indexer] = value instead\n",
      "\n",
      "See the caveats in the documentation: http://pandas.pydata.org/pandas-docs/stable/user_guide/indexing.html#returning-a-view-versus-a-copy\n",
      "  after removing the cwd from sys.path.\n",
      "/home/achu/miniconda3/lib/python3.7/site-packages/ipykernel_launcher.py:5: SettingWithCopyWarning: \n",
      "A value is trying to be set on a copy of a slice from a DataFrame.\n",
      "Try using .loc[row_indexer,col_indexer] = value instead\n",
      "\n",
      "See the caveats in the documentation: http://pandas.pydata.org/pandas-docs/stable/user_guide/indexing.html#returning-a-view-versus-a-copy\n",
      "  \"\"\"\n"
     ]
    }
   ],
   "source": [
    "#replace the values in phishing instances with those found above and check the prediction\n",
    "\n",
    "################################replaced two features with -1 value################################## -->Done\n",
    "phish_w_mod['ssl_final state'] = phish['ssl_final state'].replace([1, 0, -1], -1)\n",
    "phish_w_mod['url_of_anchor'] = phish['url_of_anchor'].replace([1, 0, -1], -1)\n",
    "\n"
   ]
  },
  {
   "cell_type": "code",
   "execution_count": 59,
   "metadata": {},
   "outputs": [
    {
     "data": {
      "text/html": [
       "<div>\n",
       "<style scoped>\n",
       "    .dataframe tbody tr th:only-of-type {\n",
       "        vertical-align: middle;\n",
       "    }\n",
       "\n",
       "    .dataframe tbody tr th {\n",
       "        vertical-align: top;\n",
       "    }\n",
       "\n",
       "    .dataframe thead th {\n",
       "        text-align: right;\n",
       "    }\n",
       "</style>\n",
       "<table border=\"1\" class=\"dataframe\">\n",
       "  <thead>\n",
       "    <tr style=\"text-align: right;\">\n",
       "      <th></th>\n",
       "      <th>IP_add</th>\n",
       "      <th>URL_length</th>\n",
       "      <th>Shortening_serv</th>\n",
       "      <th>having_at_symbol</th>\n",
       "      <th>double_slash</th>\n",
       "      <th>prefix_suffix</th>\n",
       "      <th>sub_domain</th>\n",
       "      <th>ssl_final state</th>\n",
       "      <th>domain_reg_len</th>\n",
       "      <th>Favicon</th>\n",
       "      <th>...</th>\n",
       "      <th>right click</th>\n",
       "      <th>popup window</th>\n",
       "      <th>iframe</th>\n",
       "      <th>age of domain</th>\n",
       "      <th>dns record</th>\n",
       "      <th>we trffc</th>\n",
       "      <th>page rank</th>\n",
       "      <th>google index</th>\n",
       "      <th>links pointing to page</th>\n",
       "      <th>statistical report</th>\n",
       "    </tr>\n",
       "  </thead>\n",
       "  <tbody>\n",
       "    <tr>\n",
       "      <td>4</td>\n",
       "      <td>1</td>\n",
       "      <td>0</td>\n",
       "      <td>-1</td>\n",
       "      <td>1</td>\n",
       "      <td>1</td>\n",
       "      <td>-1</td>\n",
       "      <td>1</td>\n",
       "      <td>-1</td>\n",
       "      <td>-1</td>\n",
       "      <td>1</td>\n",
       "      <td>...</td>\n",
       "      <td>1</td>\n",
       "      <td>-1</td>\n",
       "      <td>1</td>\n",
       "      <td>-1</td>\n",
       "      <td>-1</td>\n",
       "      <td>0</td>\n",
       "      <td>-1</td>\n",
       "      <td>1</td>\n",
       "      <td>1</td>\n",
       "      <td>1</td>\n",
       "    </tr>\n",
       "    <tr>\n",
       "      <td>5</td>\n",
       "      <td>-1</td>\n",
       "      <td>0</td>\n",
       "      <td>-1</td>\n",
       "      <td>1</td>\n",
       "      <td>-1</td>\n",
       "      <td>-1</td>\n",
       "      <td>1</td>\n",
       "      <td>-1</td>\n",
       "      <td>-1</td>\n",
       "      <td>1</td>\n",
       "      <td>...</td>\n",
       "      <td>1</td>\n",
       "      <td>1</td>\n",
       "      <td>1</td>\n",
       "      <td>1</td>\n",
       "      <td>1</td>\n",
       "      <td>1</td>\n",
       "      <td>-1</td>\n",
       "      <td>1</td>\n",
       "      <td>-1</td>\n",
       "      <td>-1</td>\n",
       "    </tr>\n",
       "    <tr>\n",
       "      <td>8</td>\n",
       "      <td>1</td>\n",
       "      <td>0</td>\n",
       "      <td>-1</td>\n",
       "      <td>1</td>\n",
       "      <td>1</td>\n",
       "      <td>-1</td>\n",
       "      <td>1</td>\n",
       "      <td>-1</td>\n",
       "      <td>-1</td>\n",
       "      <td>1</td>\n",
       "      <td>...</td>\n",
       "      <td>1</td>\n",
       "      <td>1</td>\n",
       "      <td>1</td>\n",
       "      <td>1</td>\n",
       "      <td>-1</td>\n",
       "      <td>1</td>\n",
       "      <td>1</td>\n",
       "      <td>1</td>\n",
       "      <td>0</td>\n",
       "      <td>1</td>\n",
       "    </tr>\n",
       "    <tr>\n",
       "      <td>10</td>\n",
       "      <td>1</td>\n",
       "      <td>1</td>\n",
       "      <td>1</td>\n",
       "      <td>1</td>\n",
       "      <td>1</td>\n",
       "      <td>-1</td>\n",
       "      <td>0</td>\n",
       "      <td>-1</td>\n",
       "      <td>1</td>\n",
       "      <td>1</td>\n",
       "      <td>...</td>\n",
       "      <td>1</td>\n",
       "      <td>1</td>\n",
       "      <td>1</td>\n",
       "      <td>-1</td>\n",
       "      <td>1</td>\n",
       "      <td>1</td>\n",
       "      <td>1</td>\n",
       "      <td>1</td>\n",
       "      <td>-1</td>\n",
       "      <td>-1</td>\n",
       "    </tr>\n",
       "    <tr>\n",
       "      <td>14</td>\n",
       "      <td>1</td>\n",
       "      <td>1</td>\n",
       "      <td>-1</td>\n",
       "      <td>1</td>\n",
       "      <td>1</td>\n",
       "      <td>1</td>\n",
       "      <td>-1</td>\n",
       "      <td>-1</td>\n",
       "      <td>-1</td>\n",
       "      <td>1</td>\n",
       "      <td>...</td>\n",
       "      <td>1</td>\n",
       "      <td>1</td>\n",
       "      <td>1</td>\n",
       "      <td>1</td>\n",
       "      <td>-1</td>\n",
       "      <td>1</td>\n",
       "      <td>-1</td>\n",
       "      <td>1</td>\n",
       "      <td>-1</td>\n",
       "      <td>1</td>\n",
       "    </tr>\n",
       "  </tbody>\n",
       "</table>\n",
       "<p>5 rows × 30 columns</p>\n",
       "</div>"
      ],
      "text/plain": [
       "    IP_add  URL_length  Shortening_serv  having_at_symbol  double_slash  \\\n",
       "4        1           0               -1                 1             1   \n",
       "5       -1           0               -1                 1            -1   \n",
       "8        1           0               -1                 1             1   \n",
       "10       1           1                1                 1             1   \n",
       "14       1           1               -1                 1             1   \n",
       "\n",
       "    prefix_suffix  sub_domain  ssl_final state  domain_reg_len  Favicon  ...  \\\n",
       "4              -1           1               -1              -1        1  ...   \n",
       "5              -1           1               -1              -1        1  ...   \n",
       "8              -1           1               -1              -1        1  ...   \n",
       "10             -1           0               -1               1        1  ...   \n",
       "14              1          -1               -1              -1        1  ...   \n",
       "\n",
       "    right click  popup window  iframe  age of domain  dns record  we trffc  \\\n",
       "4             1            -1       1             -1          -1         0   \n",
       "5             1             1       1              1           1         1   \n",
       "8             1             1       1              1          -1         1   \n",
       "10            1             1       1             -1           1         1   \n",
       "14            1             1       1              1          -1         1   \n",
       "\n",
       "    page rank  google index  links pointing to page  statistical report  \n",
       "4          -1             1                       1                   1  \n",
       "5          -1             1                      -1                  -1  \n",
       "8           1             1                       0                   1  \n",
       "10          1             1                      -1                  -1  \n",
       "14         -1             1                      -1                   1  \n",
       "\n",
       "[5 rows x 30 columns]"
      ]
     },
     "execution_count": 59,
     "metadata": {},
     "output_type": "execute_result"
    }
   ],
   "source": [
    "#phish1 = pd.read_csv('replaced_phish_only.csv')\n",
    "X_test = phish_w_mod.drop(['Result',], axis = 1)\n",
    "y_test = phish_w_mod['Result'].values\n",
    "\n"
   ]
  },
  {
   "cell_type": "code",
   "execution_count": 60,
   "metadata": {},
   "outputs": [
    {
     "name": "stdout",
     "output_type": "stream",
     "text": [
      "94.15638700178769\n"
     ]
    }
   ],
   "source": [
    "X = data.drop('Result',axis=1).values\n",
    "y = data['Result'].values\n",
    "\n",
    "classifier = svm.SVC(gamma='auto', kernel='rbf',degree =2)\n",
    "classifier.fit(X,y)\n",
    "accuracy_scores_2 = 100*cross_val_score(classifier, X, y, cv=5)\n",
    "print(np.mean(accuracy_scores_2))"
   ]
  },
  {
   "cell_type": "code",
   "execution_count": 61,
   "metadata": {},
   "outputs": [],
   "source": [
    "prediction_with_mod = classifier.predict(X_test)"
   ]
  },
  {
   "cell_type": "code",
   "execution_count": 62,
   "metadata": {},
   "outputs": [],
   "source": [
    "prediction_wo_mod = classifier.predict(X_test_1)"
   ]
  },
  {
   "cell_type": "code",
   "execution_count": 65,
   "metadata": {},
   "outputs": [
    {
     "name": "stdout",
     "output_type": "stream",
     "text": [
      "Accuracy with same train set without modification is:  96.73542309566348\n",
      "Accuracy with same train set with 2 feature modification is:  14.747441936007796\n"
     ]
    }
   ],
   "source": [
    "print(\"Accuracy with same train set without modification is: \",100*(accuracy_score(y_test_1,prediction_wo_mod)))\n",
    "print(\"Accuracy with same train set with 2 feature modification is: \",100*(accuracy_score(y_test,prediction_with_mod)))\n"
   ]
  },
  {
   "cell_type": "code",
   "execution_count": null,
   "metadata": {},
   "outputs": [],
   "source": [
    "# print(predictions)\n",
    "# np.savetxt(\"predict.csv\", predictions, delimiter=\",\")"
   ]
  },
  {
   "cell_type": "code",
   "execution_count": null,
   "metadata": {},
   "outputs": [],
   "source": []
  }
 ],
 "metadata": {
  "kernelspec": {
   "display_name": "Python 3",
   "language": "python",
   "name": "python3"
  },
  "language_info": {
   "codemirror_mode": {
    "name": "ipython",
    "version": 3
   },
   "file_extension": ".py",
   "mimetype": "text/x-python",
   "name": "python",
   "nbconvert_exporter": "python",
   "pygments_lexer": "ipython3",
   "version": "3.7.4"
  }
 },
 "nbformat": 4,
 "nbformat_minor": 2
}
