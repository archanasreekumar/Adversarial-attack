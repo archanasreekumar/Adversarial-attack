{
 "cells": [
  {
   "cell_type": "code",
   "execution_count": 25,
   "metadata": {},
   "outputs": [],
   "source": [
    "import numpy as np\n",
    "import pandas as pd\n",
    "import matplotlib.pyplot as plt\n",
    "import seaborn as sns\n",
    "from sklearn import tree\n",
    "from sklearn import svm\n",
    "from sklearn.metrics import f1_score\n",
    "#from sklearn.metrics import score\n",
    "from sklearn.model_selection import train_test_split\n",
    "from sklearn.model_selection import RepeatedKFold\n",
    "from sklearn.model_selection import KFold\n",
    "from sklearn.model_selection import cross_val_score\n",
    "from sklearn.linear_model import LogisticRegression\n",
    "from sklearn.metrics import accuracy_score\n",
    "#from ipykernel import kernelapp as app\n",
    "%matplotlib inline"
   ]
  },
  {
   "cell_type": "code",
   "execution_count": 37,
   "metadata": {
    "scrolled": true
   },
   "outputs": [],
   "source": [
    "data = pd.read_csv('dataset-500phish.csv')\n",
    "#data.head(10)"
   ]
  },
  {
   "cell_type": "code",
   "execution_count": 33,
   "metadata": {},
   "outputs": [],
   "source": [
    "phish = pd.read_csv('500phish.csv')\n",
    "X_test_wom = phish.drop(['Result'], axis = 1)\n",
    "X_test_wm = phish.drop(['Result'], axis = 1)\n",
    "y_test = phish['Result'].values\n",
    "#X_test.head()\n"
   ]
  },
  {
   "cell_type": "code",
   "execution_count": 34,
   "metadata": {},
   "outputs": [],
   "source": [
    "#replace the values in phishing instances with those found above and check the prediction\n",
    "\n",
    "################################replaced two features with -1 value################################## -->Done\n",
    "X_test_wm['ssl_final state'] = X_test_wm['ssl_final state'].replace([1, 0, -1], -1)\n",
    "X_test_wm['url_of_anchor'] = X_test_wm['url_of_anchor'].replace([1, 0, -1], -1)\n",
    "\n"
   ]
  },
  {
   "cell_type": "code",
   "execution_count": 21,
   "metadata": {},
   "outputs": [
    {
     "name": "stdout",
     "output_type": "stream",
     "text": [
      "93.7622464710735\n"
     ]
    }
   ],
   "source": [
    "X = data.drop('Result',axis=1).values\n",
    "y = data['Result'].values\n",
    "\n",
    "classifier = svm.SVC(gamma='auto', kernel='rbf',degree =2)\n",
    "classifier.fit(X,y)\n",
    "accuracy_scores_2 = 100*cross_val_score(classifier, X, y, cv=5)\n",
    "print(np.mean(accuracy_scores_2))"
   ]
  },
  {
   "cell_type": "code",
   "execution_count": 35,
   "metadata": {},
   "outputs": [],
   "source": [
    "prediction_wo_mod = classifier.predict(X_test_wom)\n",
    "prediction_with_mod = classifier.predict(X_test_wm)"
   ]
  },
  {
   "cell_type": "code",
   "execution_count": 36,
   "metadata": {},
   "outputs": [
    {
     "name": "stdout",
     "output_type": "stream",
     "text": [
      "Accuracy with different train set without modification is:  95.73283858998145\n",
      "Accuracy with different train set with 2 feature modification is:  11.688311688311687\n"
     ]
    }
   ],
   "source": [
    "print(\"Accuracy with different train set without modification is: \",100*(accuracy_score(y_test,prediction_wo_mod)))\n",
    "print(\"Accuracy with different train set with 2 feature modification is: \",100*(accuracy_score(y_test,prediction_with_mod)))"
   ]
  },
  {
   "cell_type": "code",
   "execution_count": null,
   "metadata": {},
   "outputs": [],
   "source": [
    "# print(predictions)\n",
    "# np.savetxt(\"predict.csv\", predictions, delimiter=\",\")"
   ]
  },
  {
   "cell_type": "code",
   "execution_count": null,
   "metadata": {},
   "outputs": [],
   "source": []
  }
 ],
 "metadata": {
  "kernelspec": {
   "display_name": "Python 3",
   "language": "python",
   "name": "python3"
  },
  "language_info": {
   "codemirror_mode": {
    "name": "ipython",
    "version": 3
   },
   "file_extension": ".py",
   "mimetype": "text/x-python",
   "name": "python",
   "nbconvert_exporter": "python",
   "pygments_lexer": "ipython3",
   "version": "3.7.4"
  }
 },
 "nbformat": 4,
 "nbformat_minor": 2
}
