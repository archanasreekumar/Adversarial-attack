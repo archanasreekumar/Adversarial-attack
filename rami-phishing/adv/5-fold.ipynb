{
 "cells": [
  {
   "cell_type": "code",
   "execution_count": 13,
   "metadata": {},
   "outputs": [],
   "source": [
    "import numpy as np\n",
    "import pandas as pd\n",
    "import matplotlib.pyplot as plt\n",
    "import seaborn as sns\n",
    "from sklearn import tree\n",
    "from sklearn import svm\n",
    "from sklearn.metrics import f1_score\n",
    "#from sklearn.metrics import score\n",
    "from sklearn.model_selection import train_test_split\n",
    "from sklearn.model_selection import RepeatedKFold\n",
    "from sklearn.model_selection import KFold\n",
    "from sklearn.model_selection import cross_val_score\n",
    "from sklearn.linear_model import LogisticRegression\n",
    "from sklearn.metrics import accuracy_score\n",
    "%matplotlib inline"
   ]
  },
  {
   "cell_type": "code",
   "execution_count": 14,
   "metadata": {},
   "outputs": [
    {
     "data": {
      "text/html": [
       "<div>\n",
       "<style scoped>\n",
       "    .dataframe tbody tr th:only-of-type {\n",
       "        vertical-align: middle;\n",
       "    }\n",
       "\n",
       "    .dataframe tbody tr th {\n",
       "        vertical-align: top;\n",
       "    }\n",
       "\n",
       "    .dataframe thead th {\n",
       "        text-align: right;\n",
       "    }\n",
       "</style>\n",
       "<table border=\"1\" class=\"dataframe\">\n",
       "  <thead>\n",
       "    <tr style=\"text-align: right;\">\n",
       "      <th></th>\n",
       "      <th>IP_add</th>\n",
       "      <th>URL_length</th>\n",
       "      <th>Shortening_serv</th>\n",
       "      <th>having_at_symbol</th>\n",
       "      <th>double_slash</th>\n",
       "      <th>prefix_suffix</th>\n",
       "      <th>sub_domain</th>\n",
       "      <th>ssl_final state</th>\n",
       "      <th>domain_reg_len</th>\n",
       "      <th>Favicon</th>\n",
       "      <th>...</th>\n",
       "      <th>popup window</th>\n",
       "      <th>iframe</th>\n",
       "      <th>age of domain</th>\n",
       "      <th>dns record</th>\n",
       "      <th>we trffc</th>\n",
       "      <th>page rank</th>\n",
       "      <th>google index</th>\n",
       "      <th>links pointing to page</th>\n",
       "      <th>statistical report</th>\n",
       "      <th>Result</th>\n",
       "    </tr>\n",
       "  </thead>\n",
       "  <tbody>\n",
       "    <tr>\n",
       "      <td>0</td>\n",
       "      <td>-1</td>\n",
       "      <td>1</td>\n",
       "      <td>1</td>\n",
       "      <td>1</td>\n",
       "      <td>-1</td>\n",
       "      <td>-1</td>\n",
       "      <td>-1</td>\n",
       "      <td>-1</td>\n",
       "      <td>-1</td>\n",
       "      <td>1</td>\n",
       "      <td>...</td>\n",
       "      <td>1</td>\n",
       "      <td>1</td>\n",
       "      <td>-1</td>\n",
       "      <td>-1</td>\n",
       "      <td>-1</td>\n",
       "      <td>-1</td>\n",
       "      <td>1</td>\n",
       "      <td>1</td>\n",
       "      <td>-1</td>\n",
       "      <td>-1</td>\n",
       "    </tr>\n",
       "    <tr>\n",
       "      <td>1</td>\n",
       "      <td>1</td>\n",
       "      <td>1</td>\n",
       "      <td>1</td>\n",
       "      <td>1</td>\n",
       "      <td>1</td>\n",
       "      <td>-1</td>\n",
       "      <td>0</td>\n",
       "      <td>1</td>\n",
       "      <td>-1</td>\n",
       "      <td>1</td>\n",
       "      <td>...</td>\n",
       "      <td>1</td>\n",
       "      <td>1</td>\n",
       "      <td>-1</td>\n",
       "      <td>-1</td>\n",
       "      <td>0</td>\n",
       "      <td>-1</td>\n",
       "      <td>1</td>\n",
       "      <td>1</td>\n",
       "      <td>1</td>\n",
       "      <td>-1</td>\n",
       "    </tr>\n",
       "    <tr>\n",
       "      <td>2</td>\n",
       "      <td>1</td>\n",
       "      <td>0</td>\n",
       "      <td>1</td>\n",
       "      <td>1</td>\n",
       "      <td>1</td>\n",
       "      <td>-1</td>\n",
       "      <td>-1</td>\n",
       "      <td>-1</td>\n",
       "      <td>-1</td>\n",
       "      <td>1</td>\n",
       "      <td>...</td>\n",
       "      <td>1</td>\n",
       "      <td>1</td>\n",
       "      <td>1</td>\n",
       "      <td>-1</td>\n",
       "      <td>1</td>\n",
       "      <td>-1</td>\n",
       "      <td>1</td>\n",
       "      <td>0</td>\n",
       "      <td>-1</td>\n",
       "      <td>-1</td>\n",
       "    </tr>\n",
       "    <tr>\n",
       "      <td>3</td>\n",
       "      <td>1</td>\n",
       "      <td>0</td>\n",
       "      <td>1</td>\n",
       "      <td>1</td>\n",
       "      <td>1</td>\n",
       "      <td>-1</td>\n",
       "      <td>-1</td>\n",
       "      <td>-1</td>\n",
       "      <td>1</td>\n",
       "      <td>1</td>\n",
       "      <td>...</td>\n",
       "      <td>1</td>\n",
       "      <td>1</td>\n",
       "      <td>-1</td>\n",
       "      <td>-1</td>\n",
       "      <td>1</td>\n",
       "      <td>-1</td>\n",
       "      <td>1</td>\n",
       "      <td>-1</td>\n",
       "      <td>1</td>\n",
       "      <td>-1</td>\n",
       "    </tr>\n",
       "  </tbody>\n",
       "</table>\n",
       "<p>4 rows × 31 columns</p>\n",
       "</div>"
      ],
      "text/plain": [
       "   IP_add  URL_length  Shortening_serv  having_at_symbol  double_slash  \\\n",
       "0      -1           1                1                 1            -1   \n",
       "1       1           1                1                 1             1   \n",
       "2       1           0                1                 1             1   \n",
       "3       1           0                1                 1             1   \n",
       "\n",
       "   prefix_suffix  sub_domain  ssl_final state  domain_reg_len  Favicon  ...  \\\n",
       "0             -1          -1               -1              -1        1  ...   \n",
       "1             -1           0                1              -1        1  ...   \n",
       "2             -1          -1               -1              -1        1  ...   \n",
       "3             -1          -1               -1               1        1  ...   \n",
       "\n",
       "   popup window  iframe  age of domain  dns record  we trffc  page rank  \\\n",
       "0             1       1             -1          -1        -1         -1   \n",
       "1             1       1             -1          -1         0         -1   \n",
       "2             1       1              1          -1         1         -1   \n",
       "3             1       1             -1          -1         1         -1   \n",
       "\n",
       "   google index  links pointing to page  statistical report  Result  \n",
       "0             1                       1                  -1      -1  \n",
       "1             1                       1                   1      -1  \n",
       "2             1                       0                  -1      -1  \n",
       "3             1                      -1                   1      -1  \n",
       "\n",
       "[4 rows x 31 columns]"
      ]
     },
     "execution_count": 14,
     "metadata": {},
     "output_type": "execute_result"
    }
   ],
   "source": [
    "data = pd.read_csv('dataset_final.csv')\n",
    "data.head(4)"
   ]
  },
  {
   "cell_type": "code",
   "execution_count": 11,
   "metadata": {},
   "outputs": [],
   "source": [
    "#data.info()"
   ]
  },
  {
   "cell_type": "code",
   "execution_count": 1,
   "metadata": {},
   "outputs": [],
   "source": [
    "#sns.countplot(x='Result',data=data)"
   ]
  },
  {
   "cell_type": "code",
   "execution_count": 15,
   "metadata": {},
   "outputs": [],
   "source": [
    "X = data.drop('Result',axis=1).values\n",
    "y = data['Result'].values"
   ]
  },
  {
   "cell_type": "code",
   "execution_count": 6,
   "metadata": {},
   "outputs": [],
   "source": [
    "###############normal split without 5fold cv####################\n",
    "\n",
    "#X_train,X_test,y_train,y_test=train_test_split(X,y,test_size=0.40,random_state=10)"
   ]
  },
  {
   "cell_type": "code",
   "execution_count": 2,
   "metadata": {},
   "outputs": [],
   "source": [
    "#print(\"Training set has {} samples.\".format(X_train.shape[0]))\n",
    "#print(\"Testing set has {} samples.\".format(X_test.shape[0]))\n"
   ]
  },
  {
   "cell_type": "code",
   "execution_count": 3,
   "metadata": {},
   "outputs": [],
   "source": [
    "# #kf = RepeatedKFold(n_splits=5, n_repeats=10, random_state=None) \n",
    "# scores=[]\n",
    "# f1score=[]\n",
    "# kf = KFold(n_splits=5, random_state=42, shuffle=False)\n",
    "# for train_index, test_index in kf.split(X):\n",
    "#     #print(\"Train:\", train_index, \"Validation:\",test_index)\n",
    "#     X_train, X_test = X[train_index], X[test_index] \n",
    "#     y_train, y_test = y[train_index], y[test_index] \n",
    "#     Classifier = svm.SVC(gamma='auto', kernel='rbf',degree =2)\n",
    "#     Classifier.fit(X_train,y_train)\n",
    "#     predictions = Classifier.predict(X_test)\n",
    "#     scores.append(100*(accuracy_score(y_test,predictions)))\n",
    "#     f1score.append(f1_score(y_test,predictions,average='weighted'))\n",
    "# print(scores)\n",
    "# print(f1score)\n",
    "# print(\"accuracy is \",np.mean(scores))\n",
    "# print(\"f1 score is \",np.mean(f1score))"
   ]
  },
  {
   "cell_type": "code",
   "execution_count": 23,
   "metadata": {},
   "outputs": [
    {
     "name": "stdout",
     "output_type": "stream",
     "text": [
      "[93.80650995 94.62025316 95.07010403 93.4841629  93.80090498]\n",
      "[0.93684866 0.94535799 0.94988581 0.93353383 0.93689992]\n",
      "94.15638700178769\n",
      "0.9405052439113962\n"
     ]
    }
   ],
   "source": [
    "\n",
    "Classifier = svm.SVC(gamma='auto', kernel='rbf',degree =2)\n",
    "accuracy_scores_2 = 100*cross_val_score(Classifier, X, y, cv=5)\n",
    "f1_scores_2 = cross_val_score(Classifier, X, y, cv=5, scoring='f1_macro')\n",
    "print(accuracy_scores_2)\n",
    "print(f1_scores_2)\n",
    "print(np.mean(accuracy_scores_2))\n",
    "print(np.mean(f1_scores_2))"
   ]
  },
  {
   "cell_type": "code",
   "execution_count": null,
   "metadata": {},
   "outputs": [],
   "source": [
    "####### without 5fold ########"
   ]
  },
  {
   "cell_type": "code",
   "execution_count": 4,
   "metadata": {},
   "outputs": [],
   "source": [
    "\n",
    "\n",
    "# #Classifier=LogisticRegression(solver='newton-cg')\n",
    "# #Classifier = tree.DecisionTreeClassifier(max_depth=)\n",
    "# #Classifier = svm.SVC(gamma='auto', kernel='linear',degree =2)\n",
    "# Classifier = svm.SVC(gamma='auto', kernel='rbf',degree =2)\n",
    "# Classifier.fit(X_train,y_train)"
   ]
  },
  {
   "cell_type": "code",
   "execution_count": 34,
   "metadata": {},
   "outputs": [],
   "source": [
    "# predictions = Classifier.predict(X_test)"
   ]
  },
  {
   "cell_type": "code",
   "execution_count": 5,
   "metadata": {},
   "outputs": [],
   "source": [
    "# print(\"Accuracy is: \",100*(accuracy_score(y_test,predictions)))"
   ]
  },
  {
   "cell_type": "code",
   "execution_count": 6,
   "metadata": {},
   "outputs": [],
   "source": [
    "# print(\"f1 score is \",f1_score(y_test,predictions,average='weighted'))"
   ]
  },
  {
   "cell_type": "code",
   "execution_count": null,
   "metadata": {},
   "outputs": [],
   "source": []
  }
 ],
 "metadata": {
  "kernelspec": {
   "display_name": "Python 3",
   "language": "python",
   "name": "python3"
  },
  "language_info": {
   "codemirror_mode": {
    "name": "ipython",
    "version": 3
   },
   "file_extension": ".py",
   "mimetype": "text/x-python",
   "name": "python",
   "nbconvert_exporter": "python",
   "pygments_lexer": "ipython3",
   "version": "3.7.4"
  }
 },
 "nbformat": 4,
 "nbformat_minor": 2
}
