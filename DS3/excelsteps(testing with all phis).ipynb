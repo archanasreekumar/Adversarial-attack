{
 "cells": [
  {
   "cell_type": "code",
   "execution_count": 1,
   "metadata": {},
   "outputs": [],
   "source": [
    "import numpy as np\n",
    "import pandas as pd\n",
    "import matplotlib.pyplot as plt\n",
    "import seaborn as sns\n",
    "from sklearn import tree\n",
    "from sklearn import svm\n",
    "from sklearn.metrics import f1_score\n",
    "#from sklearn.metrics import score\n",
    "from sklearn.model_selection import train_test_split\n",
    "from sklearn.model_selection import RepeatedKFold\n",
    "from sklearn.model_selection import KFold\n",
    "from sklearn.model_selection import cross_val_score\n",
    "from sklearn.linear_model import LogisticRegression\n",
    "from sklearn.metrics import accuracy_score\n",
    "#from ipykernel import kernelapp as app\n",
    "%matplotlib inline"
   ]
  },
  {
   "cell_type": "code",
   "execution_count": 2,
   "metadata": {
    "scrolled": true
   },
   "outputs": [],
   "source": [
    "data = pd.read_csv('Training Dataset.csv')\n",
    "#data.head(10)"
   ]
  },
  {
   "cell_type": "code",
   "execution_count": 12,
   "metadata": {},
   "outputs": [
    {
     "data": {
      "text/html": [
       "<div>\n",
       "<style scoped>\n",
       "    .dataframe tbody tr th:only-of-type {\n",
       "        vertical-align: middle;\n",
       "    }\n",
       "\n",
       "    .dataframe tbody tr th {\n",
       "        vertical-align: top;\n",
       "    }\n",
       "\n",
       "    .dataframe thead th {\n",
       "        text-align: right;\n",
       "    }\n",
       "</style>\n",
       "<table border=\"1\" class=\"dataframe\">\n",
       "  <thead>\n",
       "    <tr style=\"text-align: right;\">\n",
       "      <th></th>\n",
       "      <th>SFH</th>\n",
       "      <th>popup</th>\n",
       "      <th>ssl_fs</th>\n",
       "      <th>rqst_url</th>\n",
       "      <th>url_of_anchor</th>\n",
       "      <th>web_trffc</th>\n",
       "      <th>url_length</th>\n",
       "      <th>age_of_domain</th>\n",
       "      <th>ip address</th>\n",
       "      <th>Result</th>\n",
       "    </tr>\n",
       "  </thead>\n",
       "  <tbody>\n",
       "    <tr>\n",
       "      <td>1</td>\n",
       "      <td>-1</td>\n",
       "      <td>-1</td>\n",
       "      <td>-1</td>\n",
       "      <td>-1</td>\n",
       "      <td>-1</td>\n",
       "      <td>0</td>\n",
       "      <td>1</td>\n",
       "      <td>1</td>\n",
       "      <td>1</td>\n",
       "      <td>1</td>\n",
       "    </tr>\n",
       "    <tr>\n",
       "      <td>2</td>\n",
       "      <td>1</td>\n",
       "      <td>-1</td>\n",
       "      <td>0</td>\n",
       "      <td>0</td>\n",
       "      <td>-1</td>\n",
       "      <td>0</td>\n",
       "      <td>-1</td>\n",
       "      <td>1</td>\n",
       "      <td>0</td>\n",
       "      <td>1</td>\n",
       "    </tr>\n",
       "    <tr>\n",
       "      <td>4</td>\n",
       "      <td>-1</td>\n",
       "      <td>-1</td>\n",
       "      <td>1</td>\n",
       "      <td>-1</td>\n",
       "      <td>0</td>\n",
       "      <td>0</td>\n",
       "      <td>-1</td>\n",
       "      <td>1</td>\n",
       "      <td>0</td>\n",
       "      <td>1</td>\n",
       "    </tr>\n",
       "    <tr>\n",
       "      <td>5</td>\n",
       "      <td>-1</td>\n",
       "      <td>-1</td>\n",
       "      <td>1</td>\n",
       "      <td>-1</td>\n",
       "      <td>-1</td>\n",
       "      <td>1</td>\n",
       "      <td>0</td>\n",
       "      <td>-1</td>\n",
       "      <td>0</td>\n",
       "      <td>1</td>\n",
       "    </tr>\n",
       "    <tr>\n",
       "      <td>9</td>\n",
       "      <td>-1</td>\n",
       "      <td>0</td>\n",
       "      <td>-1</td>\n",
       "      <td>-1</td>\n",
       "      <td>1</td>\n",
       "      <td>1</td>\n",
       "      <td>0</td>\n",
       "      <td>-1</td>\n",
       "      <td>0</td>\n",
       "      <td>1</td>\n",
       "    </tr>\n",
       "  </tbody>\n",
       "</table>\n",
       "</div>"
      ],
      "text/plain": [
       "   SFH  popup  ssl_fs  rqst_url  url_of_anchor  web_trffc  url_length  \\\n",
       "1   -1     -1      -1        -1             -1          0           1   \n",
       "2    1     -1       0         0             -1          0          -1   \n",
       "4   -1     -1       1        -1              0          0          -1   \n",
       "5   -1     -1       1        -1             -1          1           0   \n",
       "9   -1      0      -1        -1              1          1           0   \n",
       "\n",
       "   age_of_domain  ip address  Result  \n",
       "1              1           1       1  \n",
       "2              1           0       1  \n",
       "4              1           0       1  \n",
       "5             -1           0       1  \n",
       "9             -1           0       1  "
      ]
     },
     "execution_count": 12,
     "metadata": {},
     "output_type": "execute_result"
    }
   ],
   "source": [
    "###################filtered out phishing instances.################################# ---> DONE\n",
    "\n",
    "phish = data[data.Result >=1]\n",
    "leg = data[data.Result <=0]\n",
    "susp = data[data.Result == 0]\n",
    "phish.head()"
   ]
  },
  {
   "cell_type": "code",
   "execution_count": 4,
   "metadata": {},
   "outputs": [],
   "source": [
    "phish_wo_mod = phish\n",
    "phish_w_mod = phish\n",
    "\n",
    "X_test_1 = phish_wo_mod.drop(['Result'], axis = 1)\n",
    "y_test_1 = phish_wo_mod['Result'].values\n"
   ]
  },
  {
   "cell_type": "code",
   "execution_count": 55,
   "metadata": {},
   "outputs": [],
   "source": [
    "#fileterd out values in each column to figure out value with least number of occurence ---> counting done\n",
    "#histogram for each features ---> To be done\n",
    "\n",
    "\n",
    "\n",
    "###############finding the occurences of each value in each column############################## -->DONE\n",
    "columns = list(phish)\n",
    "columns.remove('Result')\n",
    "\n",
    "\n",
    "melted_data_phish = pd.melt(phish, value_vars=columns, var_name='column', value_name='values')\n",
    "count_phish = melted_data_phish.groupby(by=['column', 'values'])['values'].count()\n",
    "\n",
    "#print(count_phish['ssl_final state'])\n",
    "\n",
    "melted_data_leg = pd.melt(leg, value_vars=columns, var_name='column', value_name='values')\n",
    "count_leg = melted_data_leg.groupby(by=['column', 'values'])['values'].count()\n"
   ]
  },
  {
   "cell_type": "code",
   "execution_count": 6,
   "metadata": {},
   "outputs": [
    {
     "name": "stderr",
     "output_type": "stream",
     "text": [
      "/home/achu/miniconda3/lib/python3.7/site-packages/ipykernel_launcher.py:4: SettingWithCopyWarning: \n",
      "A value is trying to be set on a copy of a slice from a DataFrame.\n",
      "Try using .loc[row_indexer,col_indexer] = value instead\n",
      "\n",
      "See the caveats in the documentation: http://pandas.pydata.org/pandas-docs/stable/user_guide/indexing.html#returning-a-view-versus-a-copy\n",
      "  after removing the cwd from sys.path.\n",
      "/home/achu/miniconda3/lib/python3.7/site-packages/ipykernel_launcher.py:5: SettingWithCopyWarning: \n",
      "A value is trying to be set on a copy of a slice from a DataFrame.\n",
      "Try using .loc[row_indexer,col_indexer] = value instead\n",
      "\n",
      "See the caveats in the documentation: http://pandas.pydata.org/pandas-docs/stable/user_guide/indexing.html#returning-a-view-versus-a-copy\n",
      "  \"\"\"\n"
     ]
    }
   ],
   "source": [
    "#replace the values in phishing instances with those found above and check the prediction\n",
    "\n",
    "################################replaced two features with 1 value################################## -->Done\n",
    "phish_w_mod['SFH'] = phish_w_mod['SFH'].replace([1, 0, -1], 1)\n",
    "phish_w_mod['popup'] = phish_w_mod['popup'].replace([1, 0, -1], 1)\n"
   ]
  },
  {
   "cell_type": "code",
   "execution_count": 7,
   "metadata": {},
   "outputs": [],
   "source": [
    "#phish1 = pd.read_csv('replaced_phish_only.csv')\n",
    "X_test = phish_w_mod.drop(['Result',], axis = 1)\n",
    "y_test = phish_w_mod['Result'].values\n",
    "\n"
   ]
  },
  {
   "cell_type": "code",
   "execution_count": 8,
   "metadata": {},
   "outputs": [
    {
     "name": "stdout",
     "output_type": "stream",
     "text": [
      "85.59378689129116\n"
     ]
    }
   ],
   "source": [
    "X = data.drop('Result',axis=1).values\n",
    "y = data['Result'].values\n",
    "\n",
    "classifier = svm.SVC(gamma='auto', kernel='rbf',degree =2)\n",
    "classifier.fit(X,y)\n",
    "accuracy_scores_2 = 100*cross_val_score(classifier, X, y, cv=5)\n",
    "print(np.mean(accuracy_scores_2))"
   ]
  },
  {
   "cell_type": "code",
   "execution_count": 14,
   "metadata": {},
   "outputs": [],
   "source": [
    "prediction_with_mod = classifier.predict(X_test)"
   ]
  },
  {
   "cell_type": "code",
   "execution_count": 15,
   "metadata": {},
   "outputs": [],
   "source": [
    "prediction_wo_mod = classifier.predict(X_test_1)"
   ]
  },
  {
   "cell_type": "code",
   "execution_count": 19,
   "metadata": {},
   "outputs": [
    {
     "name": "stdout",
     "output_type": "stream",
     "text": [
      "Accuracy with same train set without modification is:  92.15328467153284\n",
      "Accuracy with same train set with 2 feature modification is:  0.0\n"
     ]
    }
   ],
   "source": [
    "print(\"Accuracy with same train set without modification is: \",100*(accuracy_score(y_test_1,prediction_wo_mod)))\n",
    "print(\"Accuracy with same train set with 2 feature modification is: \",100*(accuracy_score(y_test,prediction_with_mod)))\n"
   ]
  },
  {
   "cell_type": "code",
   "execution_count": null,
   "metadata": {},
   "outputs": [],
   "source": [
    "# print(predictions)\n",
    "# np.savetxt(\"predict.csv\", predictions, delimiter=\",\")"
   ]
  },
  {
   "cell_type": "code",
   "execution_count": null,
   "metadata": {},
   "outputs": [],
   "source": []
  }
 ],
 "metadata": {
  "kernelspec": {
   "display_name": "Python 3",
   "language": "python",
   "name": "python3"
  },
  "language_info": {
   "codemirror_mode": {
    "name": "ipython",
    "version": 3
   },
   "file_extension": ".py",
   "mimetype": "text/x-python",
   "name": "python",
   "nbconvert_exporter": "python",
   "pygments_lexer": "ipython3",
   "version": "3.7.4"
  }
 },
 "nbformat": 4,
 "nbformat_minor": 2
}
